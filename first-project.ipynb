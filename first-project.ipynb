Hello, World
Welcome to my first website!I am about to embark on the exciting journey of learning how to code.Won't you join me?
Am glad you are able to join me.